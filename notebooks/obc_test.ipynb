{
 "cells": [
  {
   "cell_type": "code",
   "execution_count": 1,
   "metadata": {},
   "outputs": [
    {
     "name": "stderr",
     "output_type": "stream",
     "text": [
      "/opt/conda/lib/python3.11/site-packages/tqdm/auto.py:21: TqdmWarning: IProgress not found. Please update jupyter and ipywidgets. See https://ipywidgets.readthedocs.io/en/stable/user_install.html\n",
      "  from .autonotebook import tqdm as notebook_tqdm\n"
     ]
    }
   ],
   "source": [
    "import netket as nk\n",
    "import netket.experimental as nkx\n",
    "\n",
    "import numpy as np\n",
    "from tqdm import tqdm\n",
    "\n",
    "import jax\n",
    "import jax.numpy as jnp"
   ]
  },
  {
   "cell_type": "code",
   "execution_count": 3,
   "metadata": {},
   "outputs": [],
   "source": [
    "from netket.operator.fermion import destroy as c\n",
    "from netket.operator.fermion import create as cdag\n",
    "from netket.operator.fermion import number as nc"
   ]
  },
  {
   "cell_type": "code",
   "execution_count": 4,
   "metadata": {},
   "outputs": [],
   "source": [
    "from model import LogSlaterDeterminant, LogFullNeuralBackflow, CombinedModel"
   ]
  },
  {
   "cell_type": "code",
   "execution_count": 7,
   "metadata": {},
   "outputs": [],
   "source": [
    "def Hubbard(t: float, U: float, \n",
    "            dimensions: list[int, int], \n",
    "            boundaries: list[bool, bool], \n",
    "            filling: tuple[int, int]) -> tuple:\n",
    "    \"\"\"The function generates the hilber space and the Hamiltonian for the Hubbard model\n",
    "\n",
    "    Args:\n",
    "        t (float): hopping strength\n",
    "        U (float): interaction strength\n",
    "        dimensions (list[int, int]): size of the lattice\n",
    "        boundaries (list[bool, bool]): boundary conditions, True for periodic, False for open\n",
    "        filling (tuple[int, int]): number of up and down electrons\n",
    "\n",
    "    Returns:\n",
    "        tuple: hilbert space, Hamiltonian, graph\n",
    "    \"\"\"\n",
    "    basis_vectors = [[1,0],[0,1]]\n",
    "    #Define the graph \n",
    "    graph = nk.graph.Lattice(basis_vectors=basis_vectors, extent = dimensions, pbc = boundaries)\n",
    "    #Define the Hilbert space\n",
    "    N = graph.n_nodes\n",
    "    hi = nk.hilbert.SpinOrbitalFermions(N, s=1/2, n_fermions_per_spin=filling)\n",
    "    #Define the Hamiltonian\n",
    "    H = 0.0\n",
    "    for (i, j) in graph.edges():\n",
    "        H -= t * (cdag(hi,i,1) * c(hi,j,1) + cdag(hi,j,1) * c(hi,i,1))\n",
    "        H -= t * (cdag(hi,i,-1) * c(hi,j,-1) + cdag(hi,j,-1) * c(hi,i,-1))\n",
    "    for i in graph.nodes():\n",
    "        H += U * nc(hi,i,1) * nc(hi,i,-1)\n",
    "    return hi, H, graph"
   ]
  },
  {
   "cell_type": "code",
   "execution_count": 8,
   "metadata": {},
   "outputs": [],
   "source": [
    "t = 1.0\n",
    "U = 0.0\n",
    "N_f = 1\n",
    "\n",
    "Lx = 4\n",
    "Ly = 4\n",
    "\n",
    "hi, H, graph = Hubbard(t, U, [Lx, Ly], [False, False], (N_f, N_f))\n",
    "#hi_full, H_full, graph_full = Hubbard(t, U, [3*Lx, Ly], [True, True], (3*N_f, 3*N_f))"
   ]
  },
  {
   "cell_type": "code",
   "execution_count": 9,
   "metadata": {},
   "outputs": [
    {
     "name": "stdout",
     "output_type": "stream",
     "text": [
      "Exact ground state energy: -6.47213595499958\n"
     ]
    }
   ],
   "source": [
    "from scipy.sparse.linalg import eigsh\n",
    "eig_vals, eig_vecs = eigsh(H.to_sparse(), k=2, which=\"SA\")\n",
    "E_gs = eig_vals[0]\n",
    "print(\"Exact ground state energy:\", E_gs)"
   ]
  },
  {
   "cell_type": "code",
   "execution_count": 10,
   "metadata": {},
   "outputs": [
    {
     "data": {
      "image/png": "[encoded data removed]",
      "text/plain": [
       "<Figure size 640x480 with 1 Axes>"
      ]
     },
     "metadata": {},
     "output_type": "display_data"
    },
    {
     "data": {
      "text/plain": [
       "<Axes: title={'center': '2D Lattice (Distance Order: 1)'}, xlabel='X', ylabel='Y'>"
      ]
     },
     "execution_count": 10,
     "metadata": {},
     "output_type": "execute_result"
    }
   ],
   "source": [
    "graph.draw()"
   ]
  },
  {
   "cell_type": "code",
   "execution_count": 13,
   "metadata": {},
   "outputs": [],
   "source": [
    "exchange_graph = nk.graph.disjoint_union(graph, graph, graph, graph, graph, graph)"
   ]
  },
  {
   "cell_type": "code",
   "execution_count": 6,
   "metadata": {},
   "outputs": [
    {
     "name": "stderr",
     "output_type": "stream",
     "text": [
      "100%|██████████| 300/300 [01:35<00:00,  3.14it/s, Energy=-6.47215+0.00021j ± 0.00022 [σ²=0.00002, R̂=1.0102]]\n"
     ]
    },
    {
     "data": {
      "text/plain": [
       "(RuntimeLog():\n",
       "  keys = ['acceptance', 'Energy'],)"
      ]
     },
     "execution_count": 6,
     "metadata": {},
     "output_type": "execute_result"
    }
   ],
   "source": [
    "# Create a neural backflow wave function\n",
    "model = LogSlaterDeterminant.LogSlaterDeterminant(hi, param_dtype=complex)\n",
    "# Define a Metropolis exchange sampler\n",
    "sa = nkx.sampler.MetropolisParticleExchange(\n",
    "    hi, graph=graph, n_chains=16, exchange_spins=False, sweep_size=64\n",
    ")\n",
    "# Define an optimizer\n",
    "op = nk.optimizer.Sgd(learning_rate=0.01)\n",
    "# Create a variational state\n",
    "vstate = nk.vqs.MCState(sa, model, n_samples=512, n_discard_per_chain=16)\n",
    "# Create a Variational Monte Carlo driver\n",
    "preconditioner = nk.optimizer.SR(diag_shift=0.05, holomorphic=True)\n",
    "gs = nk.VMC(H, op, variational_state=vstate, preconditioner=preconditioner)\n",
    "# Construct the logger to visualize the data later on\n",
    "bfsd_log=nk.logging.RuntimeLog()\n",
    "# Run the optimization for 300 iterations\n",
    "gs.run(n_iter=300, out=bfsd_log)"
   ]
  },
  {
   "cell_type": "code",
   "execution_count": 7,
   "metadata": {},
   "outputs": [
    {
     "name": "stderr",
     "output_type": "stream",
     "text": [
      "100%|██████████| 200/200 [01:18<00:00,  2.56it/s, Energy=-6.471987+0.000010j ± 0.000095 [σ²=0.000005, R̂=1.0124]]\n"
     ]
    },
    {
     "data": {
      "text/plain": [
       "(RuntimeLog():\n",
       "  keys = ['acceptance', 'Energy'],)"
      ]
     },
     "execution_count": 7,
     "metadata": {},
     "output_type": "execute_result"
    }
   ],
   "source": [
    "N = graph.n_nodes\n",
    "model = LogFullNeuralBackflow.LogFullNeuralBackflow(hi, param_dtype=complex, hidden_units=N)\n",
    "sa = nkx.sampler.MetropolisParticleExchange(\n",
    "    hi, graph=graph, n_chains=16, exchange_spins=False, sweep_size=64\n",
    ")\n",
    "op = nk.optimizer.Sgd(learning_rate=0.05)\n",
    "vstate = nk.vqs.MCState(sa, model, n_samples=512, n_discard_per_chain=16)\n",
    "preconditioner = nk.optimizer.SR(diag_shift=0.05, holomorphic=True)\n",
    "gs = nk.VMC(H, op, variational_state=vstate, preconditioner=preconditioner)\n",
    "bf_log=nk.logging.RuntimeLog()\n",
    "gs.run(n_iter=200, out=bf_log)"
   ]
  },
  {
   "cell_type": "code",
   "execution_count": 15,
   "metadata": {},
   "outputs": [],
   "source": [
    "hi_help = nk.hilbert.SpinOrbitalFermions(16, s=5/2, n_fermions_per_spin=(N_f,N_f,N_f,N_f,N_f,N_f))\n",
    "H_help = 0.0\n",
    "for (i, j) in graph.edges():\n",
    "    for sz in [-5, -3, -1, 1, 3, 5]:\n",
    "        H_help -= t * (cdag(hi_help,i,sz) * c(hi_help,j,sz) + cdag(hi_help,j,sz) * c(hi_help,i,sz))\n",
    "    for i in graph.nodes():\n",
    "        H_help += U * nc(hi_help,i,-5) * nc(hi_help,i,-3)\n",
    "        H_help += U * nc(hi_help,i,-1) * nc(hi_help,i,1)\n",
    "        H_help += U * nc(hi_help,i,3) * nc(hi_help,i,5)\n",
    "# We copy H_help and add some hopping terms between the different spins\n",
    "H_full = H_help.copy()\n",
    "for ny in range(Ly):\n",
    "    i = (Lx-1)*Ly + ny\n",
    "    j = ny\n",
    "    H_full -= t * (cdag(hi_help,i,-5) * c(hi_help,j,-1) + cdag(hi_help,j,-1) * c(hi_help,i,-5))\n",
    "    H_full -= t * (cdag(hi_help,i,-3) * c(hi_help,j,1) + cdag(hi_help,j,1) * c(hi_help,i,-3))\n",
    "    H_full -= t * (cdag(hi_help,i,-1) * c(hi_help,j,3) + cdag(hi_help,j,3) * c(hi_help,i,-1))\n",
    "    H_full -= t * (cdag(hi_help,i,1) * c(hi_help,j,5) + cdag(hi_help,j,5) * c(hi_help,i,1))"
   ]
  },
  {
   "cell_type": "code",
   "execution_count": 16,
   "metadata": {},
   "outputs": [],
   "source": [
    "import copy"
   ]
  },
  {
   "cell_type": "code",
   "execution_count": 20,
   "metadata": {},
   "outputs": [
    {
     "name": "stderr",
     "output_type": "stream",
     "text": [
      "/tmp/ipykernel_112123/3442615179.py:10: UserWarning: Using MetropolisExchange with SpinOrbitalFermions can yield unintended behavior.Note that MetropolisExchange only exchanges fermions according to the graph edges and might not hop fermions of all the spin sectors (see `nk.samplers.rule.FermionHopRule`). We recommend using MetropolisFermionHop.\n",
      "  sa =  nk.sampler.MetropolisExchange(hi_help, graph=exchange_graph, n_chains=16, sweep_size=64)\n"
     ]
    }
   ],
   "source": [
    "model_base = LogSlaterDeterminant.LogSlaterDeterminant(hi, param_dtype=complex)\n",
    "#model_base = LogFullNeuralBackflow(hi, param_dtype=complex, hidden_units=16)\n",
    "sys_backflow = copy.deepcopy(model_base)\n",
    "env_backflow = copy.deepcopy(model_base)\n",
    "model = CombinedModel.CombinedNeuralBackflow(hi_help, \n",
    "                                             sys_backflow=sys_backflow, \n",
    "                                             env_backflow=env_backflow, \n",
    "                                             param_dtype=complex)\n",
    "#sa = nkx.sampler.MetropolisParticleExchange(hi_help, graph=graph, n_chains=16, exchange_spins=False, sweep_size=64)\n",
    "sa =  nk.sampler.MetropolisExchange(hi_help, graph=exchange_graph, n_chains=16, sweep_size=64)\n",
    "op = nk.optimizer.Sgd(learning_rate=0.01)\n",
    "vstate = nk.vqs.MCState(sa, model, n_samples=512, n_discard_per_chain=16, mutable = 'sys_backflow')\n",
    "#print(vstate.parameters)\n",
    "preconditioner = nk.optimizer.SR(diag_shift=0.05, holomorphic=True)"
   ]
  },
  {
   "cell_type": "code",
   "execution_count": 21,
   "metadata": {},
   "outputs": [
    {
     "name": "stderr",
     "output_type": "stream",
     "text": [
      "100%|██████████| 10/10 [00:08<00:00,  1.15it/s, Energy=-3.61+0.08j ± 0.16 [σ²=13.84, R̂=1.0045]]\n"
     ]
    },
    {
     "data": {
      "text/plain": [
       "(RuntimeLog():\n",
       "  keys = ['acceptance', 'Energy'],)"
      ]
     },
     "execution_count": 21,
     "metadata": {},
     "output_type": "execute_result"
    }
   ],
   "source": [
    "gs = nk.VMC(H_full, op, variational_state=vstate, preconditioner=preconditioner)\n",
    "bfsd_log=nk.logging.RuntimeLog()\n",
    "gs.run(n_iter=10, out=bfsd_log,step_size=2)"
   ]
  },
  {
   "cell_type": "markdown",
   "metadata": {},
   "source": [
    "# Create a new variarional driver"
   ]
  },
  {
   "cell_type": "code",
   "execution_count": 9,
   "metadata": {},
   "outputs": [],
   "source": [
    "from drivers.VMC_infinity import VMCInfinity"
   ]
  },
  {
   "cell_type": "code",
   "execution_count": 10,
   "metadata": {},
   "outputs": [
    {
     "name": "stdout",
     "output_type": "stream",
     "text": [
      "[0.15319746-0.07938698j]\n",
      "[0.00319222-0.40335617j]\n"
     ]
    }
   ],
   "source": [
    "print(vstate.parameters['env_backflow']['Mdown'][0])   \n",
    "print(vstate.parameters['sys_backflow']['Mdown'][0])   "
   ]
  },
  {
   "cell_type": "code",
   "execution_count": 14,
   "metadata": {},
   "outputs": [
    {
     "name": "stderr",
     "output_type": "stream",
     "text": [
      "100%|██████████| 100/100 [01:31<00:00,  1.09it/s, Energy=-18.753+0.104j ± 0.028 [σ²=0.407, R̂=1.0097]]\n"
     ]
    },
    {
     "data": {
      "text/plain": [
       "(RuntimeLog():\n",
       "  keys = ['acceptance', 'Energy'],)"
      ]
     },
     "execution_count": 14,
     "metadata": {},
     "output_type": "execute_result"
    }
   ],
   "source": [
    "gs_inf = VMCInfinity(H_full, op, variational_state=vstate, preconditioner=preconditioner)\n",
    "bfsd_log=nk.logging.RuntimeLog()\n",
    "gs_inf.run(n_iter=100, out=bfsd_log,step_size=10)"
   ]
  },
  {
   "cell_type": "code",
   "execution_count": 15,
   "metadata": {},
   "outputs": [
    {
     "name": "stdout",
     "output_type": "stream",
     "text": [
      "[-0.04477381+0.31500112j]\n",
      "[-0.04477381+0.31500112j]\n"
     ]
    }
   ],
   "source": [
    "print(vstate.parameters['env_backflow']['Mdown'][1])\n",
    "print(vstate.parameters['sys_backflow']['Mdown'][1])   "
   ]
  },
  {
   "cell_type": "markdown",
   "metadata": {},
   "source": [
    "# Save and load the model"
   ]
  },
  {
   "cell_type": "code",
   "execution_count": 34,
   "metadata": {},
   "outputs": [],
   "source": [
    "import flax\n",
    "\n",
    "with open(\"obc_test.mpack\", 'wb') as file:\n",
    "  file.write(flax.serialization.to_bytes(vstate))"
   ]
  },
  {
   "cell_type": "code",
   "execution_count": 35,
   "metadata": {},
   "outputs": [],
   "source": [
    "# construct a new RBM model on 10 spins\n",
    "vstate_new = nk.vqs.MCState(sa, model, n_samples=2**12, n_discard_per_chain=16)\n",
    "\n",
    "# load\n",
    "with open(\"obc_test.mpack\", 'rb') as file:\n",
    "  vstate_new = flax.serialization.from_bytes(vstate_new, file.read())"
   ]
  },
  {
   "cell_type": "code",
   "execution_count": 36,
   "metadata": {},
   "outputs": [
    {
     "name": "stdout",
     "output_type": "stream",
     "text": [
      "Energy from the neural backflow wave function: -8.000e+00+0.000e+00j ± 4.255e-13 [σ²=8.297e-22, R̂=1.0002]\n"
     ]
    }
   ],
   "source": [
    "full_energy = vstate_new.expect(H)\n",
    "print(\"Energy from the neural backflow wave function:\", full_energy)"
   ]
  },
  {
   "cell_type": "code",
   "execution_count": 17,
   "metadata": {},
   "outputs": [
    {
     "data": {
      "text/plain": [
       "{'Dense_0': {'bias': Array([-0.06604964, -0.05539274,  0.10638676, -0.01382882, -0.12083616,\n",
       "         -0.07496182, -0.03572695, -0.18251946,  0.01450239, -0.09548088,\n",
       "         -0.00045967, -0.00150087, -0.01018843, -0.18701468, -0.08020213,\n",
       "          0.04238701], dtype=float64),\n",
       "  'kernel': Array([[-1.23937115e-01, -1.05036308e-01,  1.45833058e-01,\n",
       "           1.48723736e-01, -4.05115291e-02,  1.14236765e-01,\n",
       "           6.96109528e-02,  1.04446712e-01,  9.39779807e-02,\n",
       "          -7.37618761e-02,  4.52925075e-02,  9.47220663e-02,\n",
       "          -1.38708323e-01,  1.95296941e-01, -7.15590837e-02,\n",
       "           1.11680654e-01],\n",
       "         [-2.26205944e-01,  2.18859746e-01, -2.09802866e-01,\n",
       "          -2.59401031e-01,  1.76276254e-03, -7.77158833e-02,\n",
       "           4.40886983e-02, -1.16810232e-01,  3.60603486e-02,\n",
       "           6.22762774e-02,  5.24984725e-02, -2.60715916e-01,\n",
       "           3.02344841e-01,  1.02347012e-01,  2.08403066e-02,\n",
       "           7.87222552e-02],\n",
       "         [ 1.97081700e-01,  1.14043421e-01, -2.93732866e-01,\n",
       "          -3.49405324e-01,  3.05132909e-01, -2.25169536e-01,\n",
       "           6.47126968e-02, -1.14900086e-01, -1.84740782e-04,\n",
       "          -9.24789469e-02,  7.82481915e-02,  1.42966530e-01,\n",
       "           2.49374211e-01, -1.21369046e-01, -1.10032444e-01,\n",
       "          -6.58870919e-02],\n",
       "         [ 3.03875880e-01,  1.65506786e-01,  1.61534275e-01,\n",
       "          -2.74275300e-01, -1.44265349e-01, -4.89521245e-02,\n",
       "          -1.69534544e-01, -3.83374405e-01, -3.44021267e-01,\n",
       "          -3.56986674e-01,  4.65189474e-03, -1.28608156e-01,\n",
       "          -4.12359354e-01, -2.21049938e-01, -3.63755747e-01,\n",
       "           6.03022466e-02],\n",
       "         [ 1.66970741e-01,  7.05216311e-02, -3.50584454e-01,\n",
       "           6.73789829e-02, -1.36253284e-01,  1.07618182e-01,\n",
       "           1.83289672e-01, -3.27076292e-01,  1.06778500e-01,\n",
       "          -5.11742639e-02,  1.03596661e-01, -2.05269302e-01,\n",
       "          -1.19044963e-01,  2.15939439e-01,  1.12569496e-01,\n",
       "          -1.04182815e-02],\n",
       "         [-2.04126159e-01, -5.78083649e-02, -3.80515042e-02,\n",
       "          -5.36513320e-02, -7.84016709e-02,  8.95880931e-02,\n",
       "           3.49029692e-02,  2.32126199e-01,  2.00981495e-01,\n",
       "          -3.15661944e-01,  4.50699774e-02,  1.57336569e-01,\n",
       "           4.75262440e-02,  1.41014533e-01, -1.08934897e-01,\n",
       "           2.12596225e-01],\n",
       "         [ 5.41343075e-02, -1.88676423e-01,  1.12862595e-01,\n",
       "          -2.53801324e-01,  2.81270604e-01,  1.31844843e-01,\n",
       "          -3.10185103e-02,  4.29208546e-01,  1.46669352e-01,\n",
       "          -2.02420166e-01,  1.67080297e-01, -3.32487562e-01,\n",
       "           2.81216994e-01, -8.38933663e-02,  6.68318772e-02,\n",
       "           1.29403473e-01],\n",
       "         [-3.64746869e-01, -1.42512300e-01, -1.37777184e-02,\n",
       "           6.11102364e-02, -1.18825007e-01, -6.79130666e-03,\n",
       "           3.55108690e-02,  5.84233625e-02,  1.20027932e-01,\n",
       "           3.10543996e-01, -9.72736441e-03,  2.44679097e-01,\n",
       "           3.98813396e-03,  5.13234379e-01,  8.15100967e-02,\n",
       "          -2.30081923e-01],\n",
       "         [-2.14238725e-01, -1.33716115e-02,  2.25103195e-01,\n",
       "          -4.14203327e-01,  1.43441765e-01, -1.03264496e-01,\n",
       "          -9.81845459e-02, -8.90889603e-02,  3.53463727e-01,\n",
       "           1.24584245e-01,  1.32471894e-01, -1.01354113e-01,\n",
       "           1.29556463e-01,  7.59110038e-02,  1.50670589e-01,\n",
       "           6.11884212e-02],\n",
       "         [ 2.40329247e-01,  1.99533144e-01, -1.04634025e-01,\n",
       "           2.39339440e-01, -1.98527844e-01, -3.10055641e-02,\n",
       "          -1.06090390e-01,  1.32603881e-01,  2.90996578e-03,\n",
       "          -1.47776206e-01,  9.10788631e-02,  2.36738810e-01,\n",
       "           1.92674952e-01, -4.04225318e-02,  1.84636697e-01,\n",
       "           9.80701845e-02],\n",
       "         [ 4.51951783e-01,  9.01072872e-02,  5.42818532e-02,\n",
       "          -1.18657599e-01,  1.72603995e-01, -3.19965543e-01,\n",
       "          -1.47567238e-01, -2.82634775e-02, -9.07343915e-02,\n",
       "          -1.38556491e-01,  1.04728579e-01, -2.45397441e-01,\n",
       "           1.40362515e-01,  8.32468345e-02,  1.50534914e-01,\n",
       "           7.81601215e-03],\n",
       "         [ 2.53695787e-01,  1.84529811e-01,  9.58495100e-02,\n",
       "           7.43796742e-02, -3.22068432e-01,  2.31554157e-01,\n",
       "           8.92935139e-02,  2.03351787e-01,  5.78347128e-02,\n",
       "          -3.35797555e-01, -3.43091348e-01,  7.13784546e-02,\n",
       "          -5.73749550e-02, -8.96631175e-02, -1.80131108e-01,\n",
       "          -1.05843166e-01],\n",
       "         [ 6.40416939e-02,  1.17199316e-01, -4.64104246e-02,\n",
       "          -8.83019286e-02,  7.67823948e-02,  1.42677396e-01,\n",
       "           8.86391893e-02, -3.16642058e-01,  1.46640885e-01,\n",
       "          -1.95761835e-01, -1.71436050e-01, -7.59295345e-03,\n",
       "          -9.13559745e-02,  2.81599984e-01, -5.35325964e-02,\n",
       "          -4.40469776e-02],\n",
       "         [ 8.65862031e-02,  2.19650436e-02,  9.42978893e-02,\n",
       "          -2.43987761e-01, -4.83651456e-02,  3.15765387e-01,\n",
       "           1.67165644e-01,  4.46766834e-02,  2.28881893e-01,\n",
       "          -2.28583220e-01, -1.73278192e-01,  1.51523429e-01,\n",
       "          -7.75314502e-02, -8.30361932e-02, -2.01718517e-01,\n",
       "          -2.34807196e-01],\n",
       "         [-6.01145668e-02, -1.65582709e-01, -6.32174210e-02,\n",
       "          -2.77516644e-01, -8.18938699e-02,  1.37998717e-01,\n",
       "          -2.55333763e-02,  1.00858108e-02,  2.59562318e-01,\n",
       "          -3.44025142e-01,  2.05721043e-01, -4.73135507e-02,\n",
       "          -1.21303342e-01, -2.28638404e-01,  1.42368238e-01,\n",
       "          -3.63046551e-02],\n",
       "         [ 1.16326994e-01,  2.54529926e-01,  1.05091769e-01,\n",
       "          -1.06397619e-02, -9.00847908e-02,  2.86285665e-01,\n",
       "           1.71631533e-01, -4.53711264e-02,  3.80587708e-02,\n",
       "          -7.37556688e-03,  3.47180389e-02,  1.70292933e-01,\n",
       "          -2.25458328e-01, -2.21874603e-02, -2.60986640e-01,\n",
       "          -2.51108760e-02],\n",
       "         [ 9.28212597e-02, -1.72062018e-01, -2.86158570e-02,\n",
       "           4.08222794e-02, -3.20877861e-01, -1.20921565e-01,\n",
       "          -3.54662510e-01, -2.75804214e-01, -1.02133232e-01,\n",
       "           1.68355213e-01,  1.19841449e-01,  1.38994314e-02,\n",
       "          -1.07822258e-01, -1.88495616e-01,  2.64770664e-01,\n",
       "          -3.82772129e-02],\n",
       "         [-3.94715379e-01,  3.23022013e-01,  2.04882947e-01,\n",
       "          -1.77725318e-01,  5.80118046e-02, -2.24804975e-01,\n",
       "           2.77965108e-01,  1.44032720e-01,  8.89947544e-02,\n",
       "           6.65851971e-02, -1.64906983e-01,  2.84886413e-02,\n",
       "           1.01856788e-01,  3.30517719e-01, -2.92318816e-02,\n",
       "          -4.05704983e-02],\n",
       "         [ 8.06199482e-02,  5.94609942e-02, -4.92394345e-02,\n",
       "           2.19670409e-01, -6.96817615e-02, -2.38070351e-03,\n",
       "          -1.54828064e-01, -1.66733118e-01, -8.76521231e-02,\n",
       "           3.23546821e-02,  1.01940612e-01, -1.54092217e-01,\n",
       "          -5.73696852e-02, -7.97404013e-02,  5.10120205e-03,\n",
       "           1.16695253e-01],\n",
       "         [-9.41127926e-02,  1.45330335e-01, -1.40015194e-01,\n",
       "           2.18820172e-01,  5.56193352e-02, -1.98641421e-01,\n",
       "           2.58959655e-01,  2.83860116e-01, -8.68279674e-02,\n",
       "          -1.55386943e-01,  3.93349384e-01, -9.31412220e-02,\n",
       "          -3.99444582e-02, -3.99437106e-02,  5.93639377e-02,\n",
       "          -9.89440755e-02],\n",
       "         [-2.41787306e-01, -1.63469749e-01,  2.34935058e-01,\n",
       "           2.89246307e-01,  5.15554467e-02,  2.07857069e-01,\n",
       "          -1.37720232e-01,  1.17803348e-01, -3.18864828e-01,\n",
       "          -4.83059302e-03, -1.52297543e-01,  4.01974106e-02,\n",
       "           2.64467884e-01, -3.30827821e-02, -2.26489644e-01,\n",
       "          -1.36487799e-01],\n",
       "         [ 3.01063499e-02, -6.83257645e-02, -3.58369225e-01,\n",
       "          -3.12632259e-01, -8.49175359e-02,  2.60284983e-01,\n",
       "           3.36640282e-04,  9.41277069e-02, -2.62240651e-02,\n",
       "          -1.67082254e-02, -2.57842341e-01,  3.93877299e-02,\n",
       "           7.60462760e-02,  8.63134174e-02,  2.01309410e-01,\n",
       "          -9.95555017e-02],\n",
       "         [ 6.10631073e-02,  7.22008838e-03, -4.86112207e-02,\n",
       "           3.56116086e-02, -9.72598157e-02, -2.34191892e-01,\n",
       "           1.21621334e-01, -1.99670426e-01, -1.83263795e-01,\n",
       "           9.91667954e-02, -1.67589823e-01, -9.56830972e-02,\n",
       "          -3.64746522e-01, -8.53875459e-02, -4.29565749e-02,\n",
       "          -7.32011953e-02],\n",
       "         [ 5.42005208e-02,  2.94590603e-01,  1.19953071e-01,\n",
       "          -5.61110830e-02,  2.06486003e-01, -1.03929823e-01,\n",
       "          -4.05175026e-02,  4.99541835e-02,  1.64815112e-01,\n",
       "          -3.54235598e-01, -2.39696324e-01,  1.74264902e-01,\n",
       "           1.19505586e-01, -3.63655703e-01, -7.85533455e-02,\n",
       "           1.29611487e-01],\n",
       "         [-1.36547803e-02,  1.67163025e-02,  7.11280338e-02,\n",
       "          -1.60863284e-01,  2.82222099e-02, -3.24171326e-01,\n",
       "           2.38371908e-01,  1.37842873e-01, -2.51602523e-01,\n",
       "           2.22772489e-02, -9.05152036e-03, -2.56223052e-01,\n",
       "          -7.55365314e-02,  9.14135288e-02,  2.70532957e-02,\n",
       "           1.10077596e-01],\n",
       "         [-2.65004540e-01, -4.81562837e-02,  7.94293786e-02,\n",
       "          -1.73903454e-01, -1.99421155e-01,  5.77696763e-02,\n",
       "           6.54809289e-02, -1.29679721e-01,  8.34575986e-02,\n",
       "           2.54267402e-01, -6.76696332e-02,  3.07737123e-01,\n",
       "           3.58728290e-01,  1.44657848e-01,  1.23615986e-01,\n",
       "          -2.53940234e-01],\n",
       "         [-2.25597073e-03,  4.95932565e-02, -3.03735226e-01,\n",
       "          -9.82788906e-02,  3.54469150e-01,  2.29851964e-01,\n",
       "           5.02074692e-02, -9.22251691e-02, -6.92386740e-03,\n",
       "           2.97328702e-01, -4.12958102e-02, -1.62002255e-01,\n",
       "          -6.60551812e-02, -4.50186527e-02, -2.97748520e-01,\n",
       "           2.06810862e-01],\n",
       "         [ 1.19824236e-01,  6.95403098e-02,  1.20222900e-01,\n",
       "          -7.51973283e-02, -3.48258216e-01, -3.45899848e-03,\n",
       "           2.72163015e-01, -3.43974662e-01, -1.62577412e-01,\n",
       "           2.65395052e-01,  1.06434749e-01, -2.86433018e-01,\n",
       "           5.76610357e-02,  1.25024954e-01, -3.22197787e-01,\n",
       "          -1.27616522e-01],\n",
       "         [ 9.09164617e-02, -1.42511424e-01,  2.03929389e-01,\n",
       "           6.14917392e-01, -3.46587499e-01,  7.90278149e-02,\n",
       "          -5.93215329e-02,  2.14583658e-01, -6.46706522e-02,\n",
       "           2.85409670e-01,  6.17635961e-02, -6.17324610e-02,\n",
       "          -1.73324624e-01, -1.18775601e-01, -6.46523971e-02,\n",
       "           1.33174409e-01],\n",
       "         [-5.59319193e-02, -2.18496319e-01,  9.99297273e-02,\n",
       "          -4.59090649e-02, -1.28468622e-01, -3.34944561e-01,\n",
       "          -5.13216089e-02,  6.87298133e-02,  1.45975284e-01,\n",
       "           1.43817017e-01,  2.42680072e-02,  1.95751704e-01,\n",
       "          -1.13621379e-01, -1.19777083e-01, -3.87590050e-02,\n",
       "           3.07726757e-01],\n",
       "         [ 3.79334196e-02,  2.53563178e-01, -7.55890544e-02,\n",
       "          -2.45966644e-02, -1.63988027e-01, -1.62241756e-01,\n",
       "          -9.16545225e-02,  1.00318969e-01,  1.02594955e-01,\n",
       "           2.65521887e-01, -6.09812501e-02, -8.32423686e-02,\n",
       "           6.22414670e-02,  2.78775579e-01, -9.49248245e-02,\n",
       "           5.34004424e-02],\n",
       "         [-3.19966420e-02,  1.64498396e-01,  1.91850360e-01,\n",
       "           1.29962441e-01, -3.32013168e-02,  5.88018986e-02,\n",
       "          -1.93345352e-02,  9.06527051e-02,  1.90020009e-01,\n",
       "          -2.31715832e-01,  2.49803395e-02, -8.11412354e-02,\n",
       "          -9.89598015e-02,  2.33507323e-02,  1.10933889e-01,\n",
       "           6.75093922e-02]], dtype=float64)},\n",
       " 'Dense_1': {'bias': Array([-0.12485521, -0.22862266, -0.15034341, -0.06730898, -0.0573823 ,\n",
       "         -0.1161445 , -0.17033856, -0.07960462, -0.19136993, -0.36706171,\n",
       "         -0.29503864, -0.09846019, -0.31927659, -0.05815798, -0.21830775,\n",
       "         -0.1432344 , -0.18231276, -0.07211019, -0.10762958, -0.06942207,\n",
       "         -0.12809496, -0.01005788, -0.18944469, -0.23635392, -0.12530661,\n",
       "         -0.04724306, -0.07557648, -0.15695196, -0.13126594, -0.13804804,\n",
       "         -0.24080027,  0.00273374,  0.24541578, -0.12253956,  0.10577076,\n",
       "         -0.03702428,  0.0827516 , -0.15087129,  0.13347122, -0.02853644,\n",
       "          0.25549181, -0.16203681,  0.07586277, -0.11517181,  0.17341993,\n",
       "         -0.37618814,  0.08779275,  0.03591884,  0.21134524, -0.20018232,\n",
       "          0.28702074, -0.15206294,  0.16079477, -0.19165959,  0.21299376,\n",
       "         -0.09475689,  0.01316246, -0.06570198,  0.05790344, -0.14291601,\n",
       "          0.10171543, -0.13455375,  0.15465774,  0.04409956], dtype=float64),\n",
       "  'kernel': Array([[-0.14378864,  0.19465497,  0.47017378, ..., -0.0755955 ,\n",
       "          -0.0217753 ,  0.09896359],\n",
       "         [ 0.485961  , -0.49247016, -0.28896794, ..., -0.03138456,\n",
       "           0.10022604, -0.33527082],\n",
       "         [ 0.10577875,  0.18764407,  0.02514494, ..., -0.23710041,\n",
       "          -0.25110565, -0.43633241],\n",
       "         ...,\n",
       "         [-0.01253708,  0.11218274,  0.06312486, ...,  0.01445657,\n",
       "           0.03142954,  0.07830788],\n",
       "         [-0.01970443,  0.30006136, -0.03020459, ..., -0.28829532,\n",
       "          -0.08174959, -0.03459923],\n",
       "         [ 0.35918144, -0.12911771, -0.27155724, ...,  0.02357764,\n",
       "           0.14610633, -0.01123544]], dtype=float64)}}"
      ]
     },
     "execution_count": 17,
     "metadata": {},
     "output_type": "execute_result"
    }
   ],
   "source": [
    "vstate_new.parameters"
   ]
  },
  {
   "cell_type": "code",
   "execution_count": 23,
   "metadata": {},
   "outputs": [
    {
     "name": "stderr",
     "output_type": "stream",
     "text": [
      "100%|██████████| 200/200 [00:47<00:00,  4.18it/s, E=-5.612-0.000j ± 0.035 [σ²=0.631]]\n"
     ]
    }
   ],
   "source": [
    "#model = LogFullNeuralBackflow(hi, hidden_units=N)\n",
    "model = LogSlaterDeterminant(hi)\n",
    "sampler = nkx.sampler.MetropolisParticleExchange(hi, graph=graph, n_chains=16, exchange_spins=False, sweep_size=64)\n",
    "n_iters = 200\n",
    "chain_length = 512//sampler.n_chains\n",
    "\n",
    "# initialise\n",
    "parameters = model.init(jax.random.key(0), np.ones((hi.size, )))\n",
    "sampler_state = sampler.init_state(model, parameters, seed=1)\n",
    "\n",
    "logger = nk.logging.RuntimeLog()\n",
    "\n",
    "with tqdm(\n",
    "    total=n_iters,\n",
    "    dynamic_ncols=True,\n",
    ") as pbar:\n",
    "    for i in range(n_iters):\n",
    "        # sample\n",
    "        sampler_state = sampler.reset(model, parameters, state=sampler_state)\n",
    "        samples, sampler_state = sampler.sample(model, parameters, state=sampler_state, chain_length=chain_length)\n",
    "        \n",
    "        # compute energy and gradient\n",
    "        E, E_grad = estimate_energy_and_gradient(model, parameters, H.to_jax_operator(), samples)\n",
    "        \n",
    "        # update parameters. Try using a learning rate of 0.01\n",
    "        parameters = jax.tree.map(lambda x,y: x-0.005*y, parameters, E_grad)\n",
    "        \n",
    "        # log energy: the logger takes a step argument and a dictionary of variables to be logged\n",
    "        logger(step=i, item={'Energy':E})\n",
    "        pbar.set_postfix(E=str(E))  # 格式化显示，保留 4 位小数\n",
    "        pbar.update(1)"
   ]
  },
  {
   "cell_type": "code",
   "execution_count": 22,
   "metadata": {},
   "outputs": [
    {
     "name": "stderr",
     "output_type": "stream",
     "text": [
      "/opt/conda/lib/python3.11/site-packages/matplotlib/cbook.py:1709: ComplexWarning: Casting complex values to real discards the imaginary part\n",
      "  return math.isfinite(val)\n",
      "/opt/conda/lib/python3.11/site-packages/matplotlib/cbook.py:1345: ComplexWarning: Casting complex values to real discards the imaginary part\n",
      "  return np.asarray(x, float)\n"
     ]
    },
    {
     "data": {
      "text/plain": [
       "[<matplotlib.lines.Line2D at 0x7f2a7459b7d0>]"
      ]
     },
     "execution_count": 22,
     "metadata": {},
     "output_type": "execute_result"
    },
    {
     "data": {
      "image/png": "[encoded data removed]",
      "text/plain": [
       "<Figure size 640x480 with 1 Axes>"
      ]
     },
     "metadata": {},
     "output_type": "display_data"
    }
   ],
   "source": [
    "import matplotlib.pyplot as plt\n",
    "# to plot the data, access it!\n",
    "plt.plot(logger.data['Energy']['iters'], logger.data['Energy']['Mean'])"
   ]
  },
  {
   "cell_type": "code",
   "execution_count": null,
   "metadata": {},
   "outputs": [],
   "source": []
  }
 ],
 "metadata": {
  "kernelspec": {
   "display_name": "base",
   "language": "python",
   "name": "python3"
  },
  "language_info": {
   "codemirror_mode": {
    "name": "ipython",
    "version": 3
   },
   "file_extension": ".py",
   "mimetype": "text/x-python",
   "name": "python",
   "nbconvert_exporter": "python",
   "pygments_lexer": "ipython3",
   "version": "3.11.10"
  }
 },
 "nbformat": 4,
 "nbformat_minor": 2
}
