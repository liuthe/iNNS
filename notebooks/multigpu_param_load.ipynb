{
 "cells": [
  {
   "cell_type": "code",
   "execution_count": 1,
   "metadata": {},
   "outputs": [
    {
     "name": "stderr",
     "output_type": "stream",
     "text": [
      "/opt/conda/lib/python3.11/site-packages/tqdm/auto.py:21: TqdmWarning: IProgress not found. Please update jupyter and ipywidgets. See https://ipywidgets.readthedocs.io/en/stable/user_install.html\n",
      "  from .autonotebook import tqdm as notebook_tqdm\n"
     ]
    }
   ],
   "source": [
    "import os\n",
    "os.environ['NETKET_EXPERIMENTAL_SHARDING'] = '1'\n",
    "\n",
    "import netket as nk\n",
    "\n",
    "from model import LogSlaterDeterminant, LogFullNeuralBackflow, CombinedModel\n",
    "from hamiltonian.hubbard import Hubbard, Hubbard_extend\n",
    "\n",
    "from drivers.VMC_infinity import VMCInfinity\n",
    "import copy"
   ]
  },
  {
   "cell_type": "code",
   "execution_count": 2,
   "metadata": {},
   "outputs": [],
   "source": [
    "t = 1.0\n",
    "U = 1.0\n",
    "N_f = 8\n",
    "\n",
    "Lx = 4\n",
    "Ly = 4"
   ]
  },
  {
   "cell_type": "code",
   "execution_count": 3,
   "metadata": {},
   "outputs": [],
   "source": [
    "hi, H, graph = Hubbard(t, U, [Lx, Ly], [False, True], (N_f, N_f))\n",
    "hi_help, H_full, graph_full = Hubbard_extend(t, U, [Lx, Ly], [False, True], (N_f, N_f))\n",
    "H = H.to_jax_operator()\n",
    "H_full = H_full.to_jax_operator()"
   ]
  },
  {
   "cell_type": "code",
   "execution_count": 4,
   "metadata": {},
   "outputs": [],
   "source": [
    "# Define the sampler\n",
    "model_base = LogFullNeuralBackflow.LogFullNeuralBackflow(hi, \n",
    "                                                         #param_dtype=complex, \n",
    "                                                         hidden_units=32)\n",
    "#model_base = LogFullNeuralBackflow(hi, param_dtype=complex, hidden_units=16)\n",
    "sys_backflow = copy.deepcopy(model_base)\n",
    "env_backflow = copy.deepcopy(model_base)\n",
    "model = CombinedModel.CombinedNeuralBackflow(hi_help, \n",
    "                                             sys_backflow=sys_backflow, \n",
    "                                             env_backflow=env_backflow, \n",
    "                                             #param_dtype=complex\n",
    "                                             )"
   ]
  },
  {
   "cell_type": "code",
   "execution_count": 5,
   "metadata": {},
   "outputs": [
    {
     "name": "stderr",
     "output_type": "stream",
     "text": [
      "/tmp/ipykernel_36832/3709310951.py:1: UserWarning: Using MetropolisExchange with SpinOrbitalFermions can yield unintended behavior.Note that MetropolisExchange only exchanges fermions according to the graph edges and might not hop fermions of all the spin sectors (see `nk.samplers.rule.FermionHopRule`). We recommend using MetropolisFermionHop.\n",
      "  sa =  nk.sampler.MetropolisExchange(hi_help, graph=graph_full, n_chains=16, sweep_size=96)\n"
     ]
    }
   ],
   "source": [
    "sa =  nk.sampler.MetropolisExchange(hi_help, graph=graph_full, n_chains=16, sweep_size=96)\n",
    "op = nk.optimizer.Sgd(learning_rate=0.01)"
   ]
  },
  {
   "cell_type": "code",
   "execution_count": 6,
   "metadata": {},
   "outputs": [],
   "source": [
    "vstate = nk.vqs.MCState(sa, model, n_samples=2**12, n_discard_per_chain=16)"
   ]
  },
  {
   "cell_type": "code",
   "execution_count": 7,
   "metadata": {},
   "outputs": [
    {
     "data": {
      "text/plain": [
       "12.11+0.00j ± 0.18 [σ²=123.13, R̂=1.0036]"
      ]
     },
     "execution_count": 7,
     "metadata": {},
     "output_type": "execute_result"
    }
   ],
   "source": [
    "vstate.expect(H_full)"
   ]
  },
  {
   "cell_type": "code",
   "execution_count": 73,
   "metadata": {},
   "outputs": [
    {
     "name": "stdout",
     "output_type": "stream",
     "text": [
      "[[[1 0 0 1]\n",
      "  [1 0 1 0]\n",
      "  [0 1 0 1]\n",
      "  [0 1 1 0]]\n",
      "\n",
      " [[0 1 1 0]\n",
      "  [0 0 0 1]\n",
      "  [1 0 1 1]\n",
      "  [1 0 0 1]]\n",
      "\n",
      " [[0 1 1 0]\n",
      "  [0 0 1 1]\n",
      "  [0 0 1 1]\n",
      "  [1 0 0 1]]\n",
      "\n",
      " [[1 0 0 1]\n",
      "  [1 1 0 0]\n",
      "  [1 1 0 0]\n",
      "  [0 1 1 0]]\n",
      "\n",
      " [[0 0 1 0]\n",
      "  [0 1 0 1]\n",
      "  [1 0 1 0]\n",
      "  [1 0 1 1]]\n",
      "\n",
      " [[1 1 0 1]\n",
      "  [0 0 1 1]\n",
      "  [0 1 0 0]\n",
      "  [0 1 0 1]]]\n"
     ]
    }
   ],
   "source": [
    "vstate.samples[0][0].shape\n",
    "print(vstate.samples[4][0].reshape(6,4,4))"
   ]
  },
  {
   "cell_type": "code",
   "execution_count": 57,
   "metadata": {},
   "outputs": [
    {
     "data": {
      "text/plain": [
       "dict_keys(['env_backflow', 'sys_backflow'])"
      ]
     },
     "execution_count": 57,
     "metadata": {},
     "output_type": "execute_result"
    }
   ],
   "source": [
    "vstate.parameters.keys()"
   ]
  },
  {
   "cell_type": "code",
   "execution_count": 34,
   "metadata": {},
   "outputs": [],
   "source": [
    "import flax\n",
    "\n",
    "pars = flax.core.copy(vstate.parameters, {})"
   ]
  },
  {
   "cell_type": "code",
   "execution_count": 56,
   "metadata": {},
   "outputs": [],
   "source": [
    "# pars"
   ]
  },
  {
   "cell_type": "code",
   "execution_count": 46,
   "metadata": {},
   "outputs": [],
   "source": [
    "sa_base = nk.sampler.MetropolisFermionHop(\n",
    "    hi, graph=graph\n",
    "    #, dtype=np.int8, n_chains=16, sweep_size=64\n",
    ")\n",
    "vstate_base = nk.vqs.MCState(sa_base, model_base, \n",
    "                             n_samples=2**12, \n",
    "                             n_discard_per_chain=16)"
   ]
  },
  {
   "cell_type": "code",
   "execution_count": 47,
   "metadata": {},
   "outputs": [
    {
     "name": "stdout",
     "output_type": "stream",
     "text": [
      "(32, 32)\n",
      "(32,)\n",
      "(32, 512)\n",
      "(512,)\n"
     ]
    }
   ],
   "source": [
    "print(vstate_base.parameters['Dense_0']['kernel'].shape)\n",
    "print(vstate_base.parameters['Dense_0']['bias'].shape)\n",
    "print(vstate_base.parameters['Dense_1']['kernel'].shape)\n",
    "print(vstate_base.parameters['Dense_1']['bias'].shape)"
   ]
  },
  {
   "cell_type": "code",
   "execution_count": 48,
   "metadata": {},
   "outputs": [
    {
     "data": {
      "text/plain": [
       "30.15+0.00j ± 0.28 [σ²=144.18, R̂=1.0120]"
      ]
     },
     "execution_count": 48,
     "metadata": {},
     "output_type": "execute_result"
    }
   ],
   "source": [
    "vstate_base.expect(H)"
   ]
  },
  {
   "cell_type": "code",
   "execution_count": 49,
   "metadata": {},
   "outputs": [],
   "source": [
    "# load\n",
    "with open(\"../test/4_4_U8_NNS/4_4_U8_N8_pbc_test.mpack\", 'rb') as file:\n",
    "  vstate_base.variables = flax.serialization.from_bytes(vstate_base.variables, file.read())"
   ]
  },
  {
   "cell_type": "code",
   "execution_count": 50,
   "metadata": {},
   "outputs": [
    {
     "name": "stdout",
     "output_type": "stream",
     "text": [
      "(32, 32)\n",
      "(32,)\n",
      "(32, 512)\n",
      "(512,)\n"
     ]
    }
   ],
   "source": [
    "print(vstate_base.parameters['Dense_0']['kernel'].shape)\n",
    "print(vstate_base.parameters['Dense_0']['bias'].shape)\n",
    "print(vstate_base.parameters['Dense_1']['kernel'].shape)\n",
    "print(vstate_base.parameters['Dense_1']['bias'].shape)"
   ]
  },
  {
   "cell_type": "code",
   "execution_count": 55,
   "metadata": {},
   "outputs": [
    {
     "data": {
      "text/plain": [
       "-6.62-0.00j ± 0.12 [σ²=6.78, R̂=1.0620]"
      ]
     },
     "execution_count": 55,
     "metadata": {},
     "output_type": "execute_result"
    }
   ],
   "source": [
    "vstate_base.expect(H)"
   ]
  },
  {
   "cell_type": "code",
   "execution_count": 58,
   "metadata": {},
   "outputs": [
    {
     "data": {
      "text/plain": [
       "{'Dense_0': {'bias': Array([0., 0., 0., 0., 0., 0., 0., 0., 0., 0., 0., 0., 0., 0., 0., 0., 0.,\n",
       "         0., 0., 0., 0., 0., 0., 0., 0., 0., 0., 0., 0., 0., 0., 0.],      dtype=float64),\n",
       "  'kernel': Array([[-0.22161072, -0.39535937, -0.04723201, ...,  0.26079883,\n",
       "           0.23031004,  0.00903337],\n",
       "         [-0.22988689,  0.00165779, -0.02688494, ..., -0.02885858,\n",
       "           0.08574698,  0.11739345],\n",
       "         [ 0.08500679,  0.0007416 ,  0.22085993, ...,  0.10737033,\n",
       "          -0.21011714, -0.0796543 ],\n",
       "         ...,\n",
       "         [ 0.051961  , -0.3449762 , -0.1146706 , ..., -0.10057967,\n",
       "          -0.05921012,  0.19593621],\n",
       "         [-0.22706153,  0.16084708, -0.21472319, ..., -0.14618996,\n",
       "           0.18109311,  0.02442786],\n",
       "         [ 0.15172325, -0.0654453 , -0.14680221, ..., -0.24764085,\n",
       "           0.24570636,  0.01876069]], dtype=float64)},\n",
       " 'Dense_1': {'bias': Array([0., 0., 0., 0., 0., 0., 0., 0., 0., 0., 0., 0., 0., 0., 0., 0., 0.,\n",
       "         0., 0., 0., 0., 0., 0., 0., 0., 0., 0., 0., 0., 0., 0., 0., 0., 0.,\n",
       "         0., 0., 0., 0., 0., 0., 0., 0., 0., 0., 0., 0., 0., 0., 0., 0., 0.,\n",
       "         0., 0., 0., 0., 0., 0., 0., 0., 0., 0., 0., 0., 0., 0., 0., 0., 0.,\n",
       "         0., 0., 0., 0., 0., 0., 0., 0., 0., 0., 0., 0., 0., 0., 0., 0., 0.,\n",
       "         0., 0., 0., 0., 0., 0., 0., 0., 0., 0., 0., 0., 0., 0., 0., 0., 0.,\n",
       "         0., 0., 0., 0., 0., 0., 0., 0., 0., 0., 0., 0., 0., 0., 0., 0., 0.,\n",
       "         0., 0., 0., 0., 0., 0., 0., 0., 0., 0., 0., 0., 0., 0., 0., 0., 0.,\n",
       "         0., 0., 0., 0., 0., 0., 0., 0., 0., 0., 0., 0., 0., 0., 0., 0., 0.,\n",
       "         0., 0., 0., 0., 0., 0., 0., 0., 0., 0., 0., 0., 0., 0., 0., 0., 0.,\n",
       "         0., 0., 0., 0., 0., 0., 0., 0., 0., 0., 0., 0., 0., 0., 0., 0., 0.,\n",
       "         0., 0., 0., 0., 0., 0., 0., 0., 0., 0., 0., 0., 0., 0., 0., 0., 0.,\n",
       "         0., 0., 0., 0., 0., 0., 0., 0., 0., 0., 0., 0., 0., 0., 0., 0., 0.,\n",
       "         0., 0., 0., 0., 0., 0., 0., 0., 0., 0., 0., 0., 0., 0., 0., 0., 0.,\n",
       "         0., 0., 0., 0., 0., 0., 0., 0., 0., 0., 0., 0., 0., 0., 0., 0., 0.,\n",
       "         0., 0., 0., 0., 0., 0., 0., 0., 0., 0., 0., 0., 0., 0., 0., 0., 0.,\n",
       "         0., 0., 0., 0., 0., 0., 0., 0., 0., 0., 0., 0., 0., 0., 0., 0., 0.,\n",
       "         0., 0., 0., 0., 0., 0., 0., 0., 0., 0., 0., 0., 0., 0., 0., 0., 0.,\n",
       "         0., 0., 0., 0., 0., 0., 0., 0., 0., 0., 0., 0., 0., 0., 0., 0., 0.,\n",
       "         0., 0., 0., 0., 0., 0., 0., 0., 0., 0., 0., 0., 0., 0., 0., 0., 0.,\n",
       "         0., 0., 0., 0., 0., 0., 0., 0., 0., 0., 0., 0., 0., 0., 0., 0., 0.,\n",
       "         0., 0., 0., 0., 0., 0., 0., 0., 0., 0., 0., 0., 0., 0., 0., 0., 0.,\n",
       "         0., 0., 0., 0., 0., 0., 0., 0., 0., 0., 0., 0., 0., 0., 0., 0., 0.,\n",
       "         0., 0., 0., 0., 0., 0., 0., 0., 0., 0., 0., 0., 0., 0., 0., 0., 0.,\n",
       "         0., 0., 0., 0., 0., 0., 0., 0., 0., 0., 0., 0., 0., 0., 0., 0., 0.,\n",
       "         0., 0., 0., 0., 0., 0., 0., 0., 0., 0., 0., 0., 0., 0., 0., 0., 0.,\n",
       "         0., 0., 0., 0., 0., 0., 0., 0., 0., 0., 0., 0., 0., 0., 0., 0., 0.,\n",
       "         0., 0., 0., 0., 0., 0., 0., 0., 0., 0., 0., 0., 0., 0., 0., 0., 0.,\n",
       "         0., 0., 0., 0., 0., 0., 0., 0., 0., 0., 0., 0., 0., 0., 0., 0., 0.,\n",
       "         0., 0., 0., 0., 0., 0., 0., 0., 0., 0., 0., 0., 0., 0., 0., 0., 0.,\n",
       "         0., 0.], dtype=float64),\n",
       "  'kernel': Array([[-0.09019511,  0.02794496,  0.2141709 , ..., -0.31739088,\n",
       "          -0.11214501,  0.05793483],\n",
       "         [-0.04965136,  0.36400099, -0.1879476 , ...,  0.1248798 ,\n",
       "          -0.00181474, -0.02069933],\n",
       "         [-0.08990487,  0.1591417 , -0.18990675, ..., -0.03262071,\n",
       "          -0.22754216,  0.12903945],\n",
       "         ...,\n",
       "         [-0.29139679, -0.0137664 ,  0.0095377 , ...,  0.08083159,\n",
       "           0.07053129,  0.12379207],\n",
       "         [ 0.18491827, -0.06613883, -0.28161401, ...,  0.10204272,\n",
       "          -0.11704774,  0.10582564],\n",
       "         [ 0.19968688,  0.05217243, -0.0968072 , ..., -0.10079892,\n",
       "          -0.11686816, -0.19696893]], dtype=float64)}}"
      ]
     },
     "execution_count": 58,
     "metadata": {},
     "output_type": "execute_result"
    }
   ],
   "source": [
    "pars['sys_backflow']"
   ]
  },
  {
   "cell_type": "code",
   "execution_count": 60,
   "metadata": {},
   "outputs": [],
   "source": [
    "pars['sys_backflow'] = copy.deepcopy(vstate_base.parameters)\n",
    "pars['env_backflow'] = copy.deepcopy(vstate_base.parameters)"
   ]
  },
  {
   "cell_type": "code",
   "execution_count": 61,
   "metadata": {},
   "outputs": [],
   "source": [
    "vstate.parameters = pars"
   ]
  },
  {
   "cell_type": "code",
   "execution_count": 62,
   "metadata": {},
   "outputs": [
    {
     "data": {
      "text/plain": [
       "520.4+0.0j ± 6.4 [σ²=92925.5, R̂=1.0059]"
      ]
     },
     "execution_count": 62,
     "metadata": {},
     "output_type": "execute_result"
    }
   ],
   "source": [
    "vstate.expect(H_full)"
   ]
  }
 ],
 "metadata": {
  "kernelspec": {
   "display_name": "base",
   "language": "python",
   "name": "python3"
  },
  "language_info": {
   "codemirror_mode": {
    "name": "ipython",
    "version": 3
   },
   "file_extension": ".py",
   "mimetype": "text/x-python",
   "name": "python",
   "nbconvert_exporter": "python",
   "pygments_lexer": "ipython3",
   "version": "3.11.10"
  }
 },
 "nbformat": 4,
 "nbformat_minor": 2
}
