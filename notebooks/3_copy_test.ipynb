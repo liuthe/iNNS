{
 "cells": [
  {
   "cell_type": "code",
   "execution_count": 1,
   "metadata": {},
   "outputs": [
    {
     "name": "stderr",
     "output_type": "stream",
     "text": [
      "/opt/conda/lib/python3.11/site-packages/tqdm/auto.py:21: TqdmWarning: IProgress not found. Please update jupyter and ipywidgets. See https://ipywidgets.readthedocs.io/en/stable/user_install.html\n",
      "  from .autonotebook import tqdm as notebook_tqdm\n"
     ]
    }
   ],
   "source": [
    "import netket as nk\n",
    "import netket.experimental as nkx\n",
    "\n",
    "import numpy as np\n",
    "from tqdm import tqdm"
   ]
  },
  {
   "cell_type": "code",
   "execution_count": 2,
   "metadata": {},
   "outputs": [],
   "source": [
    "from netket.experimental.operator.fermion import destroy as c\n",
    "from netket.experimental.operator.fermion import create as cdag\n",
    "from netket.experimental.operator.fermion import number as nc"
   ]
  },
  {
   "cell_type": "code",
   "execution_count": 3,
   "metadata": {},
   "outputs": [],
   "source": [
    "L = 4  # Side of the square\n",
    "graph = nk.graph.Square(L)\n",
    "N = graph.n_nodes\n",
    "\n",
    "t = 1.0\n",
    "N_f = 1\n",
    "\n",
    "hi_help = nkx.hilbert.SpinOrbitalFermions(N, s=5/2, n_fermions_per_spin=(N_f,N_f,N_f,N_f,N_f,N_f))\n",
    "H_help = 0.0\n",
    "for (i, j) in graph.edges():\n",
    "    for sz in [-5, -3, -1, 1, 3, 5]:\n",
    "        H_help -= t * (cdag(hi_help,i,sz) * c(hi_help,j,sz) + cdag(hi_help,j,sz) * c(hi_help,i,sz))"
   ]
  },
  {
   "cell_type": "code",
   "execution_count": 6,
   "metadata": {},
   "outputs": [
    {
     "data": {
      "text/plain": [
       "6"
      ]
     },
     "execution_count": 6,
     "metadata": {},
     "output_type": "execute_result"
    }
   ],
   "source": [
    "hi_help.n_spin_subsectors"
   ]
  },
  {
   "cell_type": "code",
   "execution_count": 5,
   "metadata": {},
   "outputs": [],
   "source": [
    "import flax.linen as nn\n",
    "from netket.utils.types import NNInitFunc\n",
    "from netket.nn.masked_linear import default_kernel_init\n",
    "from netket import jax as nkjax\n",
    "from typing import Any, Callable, Sequence\n",
    "from functools import partial\n",
    "\n",
    "import jax\n",
    "import jax.numpy as jnp\n",
    "DType = Any"
   ]
  },
  {
   "cell_type": "code",
   "execution_count": 9,
   "metadata": {},
   "outputs": [],
   "source": [
    "class LogSlaterDeterminant(nn.Module):\n",
    "    hilbert: nkx.hilbert.SpinOrbitalFermions\n",
    "    kernel_init: NNInitFunc = default_kernel_init\n",
    "    param_dtype: DType = float\n",
    "\n",
    "    def setup(self):\n",
    "        self.M = self.param('M', self.kernel_init, \n",
    "                   (self.hilbert.n_orbitals, self.hilbert.n_fermions_per_spin[0]), \n",
    "                   self.param_dtype)  \n",
    "\n",
    "    @nn.compact\n",
    "    def __call__(self, n):\n",
    "        @partial(jnp.vectorize, signature='(n)->()')\n",
    "        def log_sd(n):\n",
    "            #Find the positions of the occupied orbitals \n",
    "            R = n.nonzero(size=self.hilbert.n_fermions)[0]\n",
    "            \n",
    "            log_psi = 0.0\n",
    "            for sz in range(self.hilbert.n_spin_subsectors):\n",
    "                Rsz = R[self.hilbert.n_fermions_per_spin[sz] * sz : self.hilbert.n_fermions_per_spin[sz] * (sz+1)]\n",
    "                Msz = self.M[Rsz]\n",
    "                log_psi += nkjax.logdet_cmplx(Msz)\n",
    "            return log_psi\n",
    "\n",
    "        return log_sd(n)"
   ]
  },
  {
   "cell_type": "code",
   "execution_count": 10,
   "metadata": {},
   "outputs": [
    {
     "name": "stderr",
     "output_type": "stream",
     "text": [
      "100%|██████████| 300/300 [02:26<00:00,  2.05it/s, Energy=-23.9999959-0.0000032j ± 0.0000075 [σ²=0.0000000, R̂=1.0121]]\n"
     ]
    },
    {
     "data": {
      "text/plain": [
       "(RuntimeLog():\n",
       "  keys = ['acceptance', 'Energy'],)"
      ]
     },
     "execution_count": 10,
     "metadata": {},
     "output_type": "execute_result"
    }
   ],
   "source": [
    "model = LogSlaterDeterminant(hi_help, param_dtype=complex)\n",
    "sa = nkx.sampler.MetropolisParticleExchange(hi_help, graph=graph, n_chains=16, exchange_spins=False, sweep_size=64)\n",
    "op = nk.optimizer.Sgd(learning_rate=0.01)\n",
    "vstate = nk.vqs.MCState(sa, model, n_samples=512, n_discard_per_chain=16)\n",
    "preconditioner = nk.optimizer.SR(diag_shift=0.05, holomorphic=True)\n",
    "gs = nk.VMC(H_help, op, variational_state=vstate, preconditioner=preconditioner)\n",
    "bfsd_log=nk.logging.RuntimeLog()\n",
    "gs.run(n_iter=300, out=bfsd_log)"
   ]
  },
  {
   "cell_type": "code",
   "execution_count": 1,
   "metadata": {},
   "outputs": [
    {
     "name": "stdout",
     "output_type": "stream",
     "text": [
      "当前工作目录: /root/netket_test/notebooks\n"
     ]
    }
   ],
   "source": [
    "import os\n",
    "print(\"当前工作目录:\", os.getcwd())"
   ]
  },
  {
   "cell_type": "code",
   "execution_count": null,
   "metadata": {},
   "outputs": [],
   "source": []
  },
  {
   "cell_type": "code",
   "execution_count": null,
   "metadata": {},
   "outputs": [],
   "source": []
  }
 ],
 "metadata": {
  "kernelspec": {
   "display_name": "base",
   "language": "python",
   "name": "python3"
  },
  "language_info": {
   "codemirror_mode": {
    "name": "ipython",
    "version": 3
   },
   "file_extension": ".py",
   "mimetype": "text/x-python",
   "name": "python",
   "nbconvert_exporter": "python",
   "pygments_lexer": "ipython3",
   "version": "3.11.10"
  }
 },
 "nbformat": 4,
 "nbformat_minor": 2
}
